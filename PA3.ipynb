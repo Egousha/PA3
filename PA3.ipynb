{
 "cells": [
  {
   "cell_type": "markdown",
   "id": "2f2db4f4",
   "metadata": {},
   "source": [
    "# Evan Gousha\n",
    "## PA3\n",
    "### CS-150-02\n",
    "#### Fall 2021"
   ]
  },
  {
   "cell_type": "code",
   "execution_count": 86,
   "id": "6e62f9f3",
   "metadata": {},
   "outputs": [
    {
     "name": "stdout",
     "output_type": "stream",
     "text": [
      "Enter the length of side A:5\n",
      "Enter the length of side B:5\n",
      "Enter the length of side C:5\n",
      "The are of the triangle is approximately 10.825317547305483 square units.\n",
      "The perimeter of the triangle is 15 linear units.\n"
     ]
    }
   ],
   "source": [
    "import math\n",
    "a=int(input(\"Enter the length of side A:\"))\n",
    "b=int(input(\"Enter the length of side B:\"))\n",
    "c=int(input(\"Enter the length of side C:\"))\n",
    "def calcArea(a=1,b=1,c=1):\n",
    "    area=math.sqrt(((a+b+c)/2)*(((a+b+c)/2)-a)*(((a+b+c)/2)-b)*(((a+b+c)/2)-c))\n",
    "    print(\"The are of the triangle is approximately\",area,\"square units.\")\n",
    "def calcPerimeter(a=1,b=1,c=1):\n",
    "    perimeter=(a+b+c)\n",
    "    print(\"The perimeter of the triangle is\", perimeter,\"linear units.\")\n",
    "calcArea(a,b,c)\n",
    "calcPerimeter(a,b,c)"
   ]
  },
  {
   "cell_type": "code",
   "execution_count": 87,
   "id": "de1cf78f",
   "metadata": {},
   "outputs": [
    {
     "name": "stdout",
     "output_type": "stream",
     "text": [
      "Enter the length of side A:12\n",
      "Enter the length of side B:16\n",
      "Enter the length of side C:21\n",
      "The are of the triangle is approximately 95.4512310030625 square units.\n",
      "The perimeter of the triangle is 49 linear units.\n"
     ]
    }
   ],
   "source": [
    "import math\n",
    "a=int(input(\"Enter the length of side A:\"))\n",
    "b=int(input(\"Enter the length of side B:\"))\n",
    "c=int(input(\"Enter the length of side C:\"))\n",
    "def calcArea(a=1,b=1,c=1):\n",
    "    area=math.sqrt(((a+b+c)/2)*(((a+b+c)/2)-a)*(((a+b+c)/2)-b)*(((a+b+c)/2)-c))\n",
    "    print(\"The are of the triangle is approximately\",area,\"square units.\")\n",
    "def calcPerimeter(a=1,b=1,c=1):\n",
    "    perimeter=(a+b+c)\n",
    "    print(\"The perimeter of the triangle is\", perimeter,\"linear units.\")\n",
    "calcArea(a,b,c)\n",
    "calcPerimeter(a,b,c) "
   ]
  },
  {
   "cell_type": "code",
   "execution_count": 88,
   "id": "f3aa3c0d",
   "metadata": {},
   "outputs": [
    {
     "name": "stdout",
     "output_type": "stream",
     "text": [
      "The are of the triangle is approximately 0.4330127018922193 square units.\n",
      "The perimeter of the triangle is 3 linear units.\n"
     ]
    }
   ],
   "source": [
    "calcArea()\n",
    "calcPerimeter()"
   ]
  },
  {
   "cell_type": "code",
   "execution_count": 92,
   "id": "6b41c8c0",
   "metadata": {},
   "outputs": [
    {
     "name": "stdout",
     "output_type": "stream",
     "text": [
      "Enter your guess: 500\n",
      "Too low! Guess again\n",
      "Enter your guess: 800\n",
      "Too high! Guess again\n",
      "Enter your guess: 600\n",
      "Too low! Guess again\n",
      "Enter your guess: 700\n",
      "Too high! Guess again\n",
      "Enter your guess: 650\n",
      "Too low! Guess again\n",
      "Enter your guess: 675\n",
      "Too low! Guess again\n",
      "Enter your guess: 685\n",
      "Too high! Guess again\n",
      "Enter your guess: 680\n",
      "Correct!\n"
     ]
    }
   ],
   "source": [
    "import random\n",
    "number=random.randint(1,1001)\n",
    "Entered_number=None\n",
    "\n",
    "while Entered_number!=number:\n",
    "    Entered_number=int(input(\"Enter your guess: \"))\n",
    "    if Entered_number==number:\n",
    "        print(f\"Correct!\")\n",
    "    if Entered_number>number:\n",
    "        print(\"Too high! Guess again\")\n",
    "    if Entered_number<number:\n",
    "        print(\"Too low! Guess again\")"
   ]
  },
  {
   "cell_type": "code",
   "execution_count": 76,
   "id": "c9db7a91",
   "metadata": {},
   "outputs": [
    {
     "name": "stdout",
     "output_type": "stream",
     "text": [
      "The mean temperature for the past 7 days is 88.0 degrees F.\n",
      "The mean temperature for the past 5 days is 88.2 degrees F.\n",
      "The mean temperature for the past 2 days is 90.0 degrees F.\n"
     ]
    }
   ],
   "source": [
    "def meanTemps(*temps):\n",
    "    mean=sum(temps)/len(temps)\n",
    "    print(\"The mean temperature for the past\", len(temps),\"days is\",mean, \"degrees F.\")\n",
    "\n",
    "meanTemps(87,80,85,92,93,84,95)\n",
    "meanTemps(88,93,84,85,91)\n",
    "meanTemps(91,89)\n"
   ]
  }
 ],
 "metadata": {
  "kernelspec": {
   "display_name": "Python 3",
   "language": "python",
   "name": "python3"
  },
  "language_info": {
   "codemirror_mode": {
    "name": "ipython",
    "version": 3
   },
   "file_extension": ".py",
   "mimetype": "text/x-python",
   "name": "python",
   "nbconvert_exporter": "python",
   "pygments_lexer": "ipython3",
   "version": "3.8.8"
  }
 },
 "nbformat": 4,
 "nbformat_minor": 5
}
